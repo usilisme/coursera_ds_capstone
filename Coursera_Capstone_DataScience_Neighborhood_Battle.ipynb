{
    "cells": [
        {
            "cell_type": "markdown",
            "metadata": {
                "collapsed": true
            },
            "source": "# Likelihood for Restaurant Business Success (in New York vs. in Toronto)"
        },
        {
            "cell_type": "markdown",
            "metadata": {},
            "source": "## Business Problem\nI am an aspirational chef who is considering to migrate to a vibrant city.\nThe choices are narrowed down to two amazing cities, New York or Toronto.\n\nI cannot afford to fail as I am putting my life saving into the business.\nI am going to explore the likelihood of success, using my newly acquired skillset of Data Science!"
        },
        {
            "cell_type": "markdown",
            "metadata": {},
            "source": "## Key Metric\nWe are going to observe and compare two data features, \n1. the number of restaurants between the two cities\n2. the variations among these restaurants"
        },
        {
            "cell_type": "markdown",
            "metadata": {},
            "source": "## Data Source\nWe are going to rely on FourSquare dataset for both cities\n1. We are going to count the number and types of restaurant in both cities"
        }
    ],
    "metadata": {
        "kernelspec": {
            "display_name": "Python 3.7",
            "language": "python",
            "name": "python3"
        },
        "language_info": {
            "codemirror_mode": {
                "name": "ipython",
                "version": 3
            },
            "file_extension": ".py",
            "mimetype": "text/x-python",
            "name": "python",
            "nbconvert_exporter": "python",
            "pygments_lexer": "ipython3",
            "version": "3.7.9"
        }
    },
    "nbformat": 4,
    "nbformat_minor": 1
}